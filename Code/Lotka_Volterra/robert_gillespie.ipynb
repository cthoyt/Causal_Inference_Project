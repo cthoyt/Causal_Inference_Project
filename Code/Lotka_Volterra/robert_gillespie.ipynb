{
 "cells": [
  {
   "cell_type": "markdown",
   "metadata": {},
   "source": [
    "# Lotka–Volterra predator-prey model with Gillespie simulation\n",
    "The modeling done here demonstrates Particle's ability to model a dynamic system.  The example is from ecology, but applies readily to problems in econometrics, finance, chemistry, and systems biology."
   ]
  },
  {
   "cell_type": "code",
   "execution_count": null,
   "metadata": {},
   "outputs": [],
   "source": [
    "from copy import deepcopy\n",
    "import numpy as np\n",
    "import matplotlib.pyplot as plt\n",
    "\n",
    "from particle import Exponential\n",
    "from particle import Dist\n",
    "from particle import Discrete\n",
    "from particle import Condition\n",
    "from particle import MH\n",
    "from particle import SingleSite"
   ]
  },
  {
   "cell_type": "markdown",
   "metadata": {},
   "source": [
    "## Background\n",
    "\n",
    "### Lotka-Volterra model\n",
    "This is a simple dynamic model of the populations of a single predator species and a single prey species in an ecology that does contain any other species.  Three basic events occur in this system:\n",
    "\n",
    "1. A prey spawns a new prey\n",
    "2. A predator eats a prey and immediately spawns a new predator\n",
    "3. A predator dies\n",
    "\n",
    "The population of these species in time depends on the rates at which these events occur.  If predators eat the prey too often, the prey die out then the predators die out. If the predation occurs to rarely of course the prey population explodes.  Of course the rates that these events occurs at a particular point in time depends on the populations at a specific point in time.\n",
    "\n",
    "### Gillespie algorithm\n",
    "\n",
    "The Gillespie algorithm is an algorithm for modeling this type of systems as a discrete state continuous time Markov process.  This means the events' occurance rates are used to calculate the probability an event will occur at a specific instant in time (hazard rate), then forward simulating using the hazard rates."
   ]
  },
  {
   "cell_type": "markdown",
   "metadata": {},
   "source": [
    "## Build the program to select from three hypotheses\n",
    "There are three rate parameters that determine the rates of the three events.  Typically one puts independent Gamma priors on these.  But to simplicify the inference task, we are just going to specify three discrete parameter configurations and assign equal prior probability to each configuration."
   ]
  },
  {
   "cell_type": "code",
   "execution_count": null,
   "metadata": {},
   "outputs": [],
   "source": [
    "class LV(Dist):\n",
    "    \"\"\"\n",
    "    Gillespie simulation of the Lotka–Volterra predator-prey model.\n",
    "    \"\"\"\n",
    "    def __init__(self, transitions, initial, N, select_hyp=\"none\", t0=0.0):\n",
    "        \"\"\"\n",
    "        Create the Gillespie object.\n",
    "\n",
    "        Args:\n",
    "            transitions(dict): A dictionary with keys \"prey\" and \"pred\", and each element\n",
    "                is a list containing the row of the transition matrix.\n",
    "            initial(dict): A dictionary with keys 'prey' and 'predator' giving the initial\n",
    "                counts for each species at the start of the sim.\n",
    "            N(int): Number of desired simulation iterations.\n",
    "            select_hyp(str): Default is \"none\", wherein a uniform prior is assigned to the\n",
    "                three hypotheses.  Otherwise, \"H1\", \"H2\", or \"H3\" concentrates all prior\n",
    "                probability on one hypothesis (useful in forward simulation).\n",
    "            t0(float): initial time point.\n",
    "        \"\"\"\n",
    "        self.transitions = transitions\n",
    "        self.select_hyp = select_hyp\n",
    "        self.initial = initial\n",
    "        self.times = [t0]\n",
    "        self.trajectory = {'prey': [initial['prey']], 'pred': [initial['pred']]}\n",
    "        self.N = N\n",
    "\n",
    "    def get_hazards(self, ecology, theta):  # hazard function, note in this case it is constant in time\n",
    "        \"\"\"\n",
    "        Compute the hazard function given the current states.  Note that in this\n",
    "            model the function depends only on state, not time, though this is not\n",
    "            the case in general. \"spawn_prey\" represents the even of a prey being born,\n",
    "            \"prey2pred\" represents a predator consuming a new prey and consequently spawning\n",
    "            a new predator, \"pred_dies\" represents the death of a predator.\n",
    "\n",
    "        args:\n",
    "            ecology(dict): a dictionary containing species counts.\n",
    "            theta(dict): A dictionary where keys represent events (reactions) and\n",
    "                values are the location hyperparameters for rate parameter constants\n",
    "                corresponding to those events.\n",
    "        \"\"\"\n",
    "\n",
    "        return {\n",
    "            'spawn_prey': theta['spawn_prey'] * ecology['prey'],\n",
    "            'prey2pred': theta['prey2pred'] * ecology['prey'] * ecology['pred'],\n",
    "            'pred_dies': theta['pred_dies'] * ecology['pred']\n",
    "        }\n",
    "\n",
    "    def run(self, env):\n",
    "        ecology = deepcopy(self.initial)\n",
    "        theta_hypotheses = {\n",
    "            'H1': {'spawn_prey': 1, 'prey2pred': 0.005, 'pred_dies': 0.6},\n",
    "            'H2': {'spawn_prey': .9, 'prey2pred': 0.004, 'pred_dies': 0.4},\n",
    "            'H3': {'spawn_prey': 1.5, 'prey2pred': 0.01, 'pred_dies': 0.8}\n",
    "        }\n",
    "        if self.select_hyp is not \"none\":\n",
    "            theta_dex = env.bind(\"theta\", Discrete({'H1': 0.0, 'H2': 0.0, 'H3': 0.0, self.select_hyp: 1.0}))\n",
    "        else:\n",
    "            theta_dex = env.bind(\"theta\", Discrete({'H1': 1 - 0.6666, 'H2': 0.3333, 'H3': 0.3333}))\n",
    "\n",
    "        theta = theta_hypotheses[theta_dex]\n",
    "\n",
    "        t = self.times[0]\n",
    "        for i in range(1, self.N):\n",
    "            hazards = self.get_hazards(ecology, theta)\n",
    "            transition = self.transitions[env.bind(\"event_{}\".format(i), Discrete(hazards))]\n",
    "            t = t + env.bind(\"t_{}\".format(i), Exponential(sum(hazards.values())))\n",
    "\n",
    "            ecology['prey'] += transition[0]\n",
    "            ecology['pred'] += transition[1]\n",
    "            # Enforce only positive integers\n",
    "            ecology['prey'] = max(0, ecology['prey'])\n",
    "            ecology['pred'] = max(0, ecology['pred'])\n",
    "\n",
    "            self.trajectory['prey'].append(ecology['prey'])\n",
    "            self.trajectory['pred'].append(ecology['pred'])\n",
    "            self.times.append(t)"
   ]
  },
  {
   "cell_type": "markdown",
   "metadata": {},
   "source": [
    "## Simulate 100 events for hypothesis 1"
   ]
  },
  {
   "cell_type": "markdown",
   "metadata": {},
   "source": [
    "### Prepare the transition matrix and initial state"
   ]
  },
  {
   "cell_type": "code",
   "execution_count": 1,
   "metadata": {},
   "outputs": [],
   "source": [
    "import numpy as np"
   ]
  },
  {
   "cell_type": "code",
   "execution_count": 2,
   "metadata": {},
   "outputs": [],
   "source": [
    "Pre = np.array([[1, 0], [1, 1], [0, 1]])\n",
    "Post = np.array([[2, 0], [0, 2], [0, 0]])\n",
    "transition_mat = np.transpose(Post - Pre)\n",
    "events = ['spawn_prey', 'prey2pred', 'pred_dies']\n",
    "transitions = {events[k]: transition_mat[:, k] for k in range(len(events))}"
   ]
  },
  {
   "cell_type": "code",
   "execution_count": 3,
   "metadata": {},
   "outputs": [
    {
     "data": {
      "text/plain": [
       "{'spawn_prey': array([1, 0]),\n",
       " 'prey2pred': array([-1,  1]),\n",
       " 'pred_dies': array([ 0, -1])}"
      ]
     },
     "execution_count": 3,
     "metadata": {},
     "output_type": "execute_result"
    }
   ],
   "source": [
    "transitions"
   ]
  },
  {
   "cell_type": "markdown",
   "metadata": {},
   "source": [
    "### Run the simulation and examine the trace\n",
    "Running for 10000 data points."
   ]
  },
  {
   "cell_type": "code",
   "execution_count": null,
   "metadata": {},
   "outputs": [],
   "source": [
    "sim = LV(transitions, {'prey': 50, 'pred': 100}, 10000, select_hyp=\"H1\")\n",
    "trace = sim.generate()"
   ]
  },
  {
   "cell_type": "code",
   "execution_count": null,
   "metadata": {},
   "outputs": [],
   "source": [
    "fig = plt.figure()\n",
    "ax = plt.subplot(111)\n",
    "ax.set_ylabel(\"count\")\n",
    "ax.set_xlabel(\"time\")\n",
    "for v in ['prey', 'pred']:\n",
    "    ax.plot(sim.times, sim.trajectory[v], label=v)\n",
    "\n",
    "ax.legend()\n",
    "plt.show()"
   ]
  },
  {
   "cell_type": "code",
   "execution_count": null,
   "metadata": {},
   "outputs": [],
   "source": [
    "fig = plt.figure()\n",
    "ax = plt.subplot(111)\n",
    "ax.set_ylabel(\"predators\")\n",
    "ax.set_xlabel(\"prey\")\n",
    "ax.plot(sim.trajectory['prey'], sim.trajectory['pred'])\n",
    "plt.show()"
   ]
  },
  {
   "cell_type": "markdown",
   "metadata": {},
   "source": [
    "## Attempt to infer the hypothesis on a small set of events\n",
    "\n",
    "We would like to use this model for infering the rate parameters.  There are three sets of rate parameters, H1, H2, and H3.  Assuming we didn't know which was the true set, we would condition on observed events and the time they occurred, and infer the posterior probability a given hypothesis was the true hypothesis.\n",
    "\n",
    "In this example I will forward simulate from H1.  If inference is working, H1 should be the MAP (have the highest posterior probability).  \n",
    "\n",
    "I limit the simulated evidence to only 20 events, few enough that there is still some uncertainty as to which hypothesis is true."
   ]
  },
  {
   "cell_type": "code",
   "execution_count": null,
   "metadata": {},
   "outputs": [],
   "source": [
    "N = 20  # Number of events\n",
    "num_samp = 1000\n",
    "sim = LV(transitions, {'prey': 50, 'pred': 100}, N, select_hyp=\"H1\")\n",
    "trace = sim.generate()\n",
    "evidence = {k: v for k, v in trace.value.items() if k not in 'theta'}"
   ]
  },
  {
   "cell_type": "code",
   "execution_count": null,
   "metadata": {},
   "outputs": [],
   "source": [
    "conditioned_sim = Condition(LV,evidence)(transitions, {'prey': 50, 'pred': 100}, N)\n",
    "trace = conditioned_sim.generate()\n",
    "solver = MH(conditioned_sim, SingleSite(), num_samples=num_samp, start_trace=trace)\n",
    "output = solver.run()"
   ]
  },
  {
   "cell_type": "markdown",
   "metadata": {},
   "source": [
    "Get hypothesis marginals"
   ]
  },
  {
   "cell_type": "code",
   "execution_count": null,
   "metadata": {},
   "outputs": [],
   "source": [
    "{'H{}'.format(i): [output.results[i].value['theta'] for i in range(len(output.results))].count('H{}'.format(i))/num_samp for i in [1, 2, 3]}"
   ]
  },
  {
   "cell_type": "markdown",
   "metadata": {},
   "source": [
    "While there is still some entropy in the posterior, the correct hypothesis still emerges as the best estimate."
   ]
  }
 ],
 "metadata": {
  "kernelspec": {
   "display_name": "Python 3",
   "language": "python",
   "name": "python3"
  },
  "language_info": {
   "codemirror_mode": {
    "name": "ipython",
    "version": 3
   },
   "file_extension": ".py",
   "mimetype": "text/x-python",
   "name": "python",
   "nbconvert_exporter": "python",
   "pygments_lexer": "ipython3",
   "version": "3.8.5"
  }
 },
 "nbformat": 4,
 "nbformat_minor": 4
}
