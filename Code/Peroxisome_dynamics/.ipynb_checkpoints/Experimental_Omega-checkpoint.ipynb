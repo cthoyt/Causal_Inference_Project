{
 "cells": [
  {
   "cell_type": "markdown",
   "metadata": {},
   "source": [
    "# Overview of implementing omega on real experimental dataset\n",
    "\n",
    "## Steps\n",
    "\n",
    "1. Determine biochemical process that generated the experimental data and program this into Omega\n",
    "    1. An example of this is a Gillespie simulation (although it doesn't need to be)\n",
    "2. This implementation can run simulations which follow the same biochemical laws as the experiment\n",
    "    1. For a given set of cells $X$ we can generate traces over some time period $T$ \n",
    "    2. For each time point $t_i$ in $T$ we can describe the cell abundance as $P(x_1, x_2, .., x_n|t_i)$\n",
    "3. We can condition the implementation on our experimental data to recreate the experimental state\n",
    "    $$\\sum\\nolimits_{t_i \\in T} P(x_1, x_2,.., x_n|\\text{Data}, t_i)$$\n",
    "4. Use Omega's functionality (ie replace) on the conditioned trace to ask counterfactual queries about the experiment"
   ]
  },
  {
   "cell_type": "markdown",
   "metadata": {},
   "source": [
    "## Biochemical model of organelle dynamics\n",
    "\n",
    "Quick reminder on what our experimental data looks like. "
   ]
  },
  {
   "cell_type": "code",
   "execution_count": 3,
   "metadata": {},
   "outputs": [
    {
     "data": {
      "text/html": [
       "<div>\n",
       "<style scoped>\n",
       "    .dataframe tbody tr th:only-of-type {\n",
       "        vertical-align: middle;\n",
       "    }\n",
       "\n",
       "    .dataframe tbody tr th {\n",
       "        vertical-align: top;\n",
       "    }\n",
       "\n",
       "    .dataframe thead th {\n",
       "        text-align: right;\n",
       "    }\n",
       "</style>\n",
       "<table border=\"1\" class=\"dataframe\">\n",
       "  <thead>\n",
       "    <tr style=\"text-align: right;\">\n",
       "      <th></th>\n",
       "      <th>time</th>\n",
       "      <th>count</th>\n",
       "      <th>Cell</th>\n",
       "    </tr>\n",
       "  </thead>\n",
       "  <tbody>\n",
       "    <tr>\n",
       "      <th>0</th>\n",
       "      <td>0</td>\n",
       "      <td>240</td>\n",
       "      <td>1</td>\n",
       "    </tr>\n",
       "    <tr>\n",
       "      <th>1</th>\n",
       "      <td>336</td>\n",
       "      <td>269</td>\n",
       "      <td>1</td>\n",
       "    </tr>\n",
       "    <tr>\n",
       "      <th>2</th>\n",
       "      <td>672</td>\n",
       "      <td>258</td>\n",
       "      <td>1</td>\n",
       "    </tr>\n",
       "    <tr>\n",
       "      <th>3</th>\n",
       "      <td>1008</td>\n",
       "      <td>264</td>\n",
       "      <td>1</td>\n",
       "    </tr>\n",
       "    <tr>\n",
       "      <th>4</th>\n",
       "      <td>1344</td>\n",
       "      <td>263</td>\n",
       "      <td>1</td>\n",
       "    </tr>\n",
       "  </tbody>\n",
       "</table>\n",
       "</div>"
      ],
      "text/plain": [
       "   time  count  Cell\n",
       "0     0    240     1\n",
       "1   336    269     1\n",
       "2   672    258     1\n",
       "3  1008    264     1\n",
       "4  1344    263     1"
      ]
     },
     "execution_count": 3,
     "metadata": {},
     "output_type": "execute_result"
    }
   ],
   "source": [
    "import pandas as pd\n",
    "day1 = pd.read_csv('../../../../../Research/Causal_Inference/SDE_inference/Experimental_Data/Data/Day1/all.dat', sep=',').iloc[:, 1:]\n",
    "day1.head()"
   ]
  },
  {
   "cell_type": "markdown",
   "metadata": {},
   "source": [
    "There are regular time intervals at every 336 and count of cells"
   ]
  },
  {
   "cell_type": "markdown",
   "metadata": {},
   "source": [
    "#### Gillespie"
   ]
  },
  {
   "cell_type": "markdown",
   "metadata": {},
   "source": [
    "Our model needs to be expressive enough to be conditioned on cell counts at *specific* times.\n",
    "\n",
    "This rules out stochastic models which do not step at regular intervals, such as Gillespie. For any time $t_i$ Gillespie steps as follows: \n",
    "$$t_{i+1} = t_i + {a_0}e^{-a_0x}$$\n",
    "\n",
    "Where $a_0$ is the sum of the hazards (probability values of each reaction) and $x$ is a value sampled from the uniform distribution $[0,1)$. This approximates a sampling from an exponential distribution.\n",
    "\n",
    "In this model time is also a random variable. This would change our posterior, such that for any observation i, $P(x_i, t_i|Data_i)$ or in other words $x_i = Data_{x_i}$ and $t_i = Data_{t_i}$. This adds complications to our model and makes conditioning on the posterior much more challenging."
   ]
  },
  {
   "cell_type": "markdown",
   "metadata": {},
   "source": [
    "#### From *Statistical Inference of Peroxisome Dynamics*\n",
    "\n",
    "Given join effect of three stochastic processes, the probabiliy $p(x, t)$ that the count equals x at time t is governed by the following equation\n",
    "\n",
    "$$\\frac{dp(x,t)}{dt} = [k_d + k_f(x-1)]p(x-1,t) + [\\gamma(x+1)]p(x+1,t)-[k_d+(k_f + \\gamma)x]p(x,t)$$\n",
    "\n",
    "This can be further reformulated as an SDE:\n",
    "\n",
    "$$dx(t) = [k_d + (k_f - \\gamma)x(t)]dt + [k_d + (k_f + \\gamma)x(t)]dW(t)$$\n",
    "\n",
    "Where $W(t)$ is Brownian motion. Finally this equation can be solved with the Euler-Maruyama method.\n",
    "\n",
    "$$x_{t+1} = [k_d + (k_f - \\gamma)x_t]\\Delta t + [k_d + (k_f + \\gamma)x(t)]\\sqrt{\\Delta t}Z$$\n",
    "\n",
    "$$Z \\sim N(0,1)$$\n",
    "$$\\Delta t = t_{t+1}- t_{t}$$\n",
    "$$k_d, k_f, \\gamma \\sim \\text{Rate Parameters}$$"
   ]
  },
  {
   "cell_type": "markdown",
   "metadata": {},
   "source": [
    "This model has the added bonus that time intervals can be set by the user, while still keeping the cell count a random variable."
   ]
  },
  {
   "cell_type": "code",
   "execution_count": null,
   "metadata": {},
   "outputs": [],
   "source": []
  }
 ],
 "metadata": {
  "kernelspec": {
   "display_name": "Python 3",
   "language": "python",
   "name": "python3"
  },
  "language_info": {
   "codemirror_mode": {
    "name": "ipython",
    "version": 3
   },
   "file_extension": ".py",
   "mimetype": "text/x-python",
   "name": "python",
   "nbconvert_exporter": "python",
   "pygments_lexer": "ipython3",
   "version": "3.8.5"
  }
 },
 "nbformat": 4,
 "nbformat_minor": 4
}
